{
  "cells": [
    {
      "cell_type": "markdown",
      "metadata": {
        "id": "view-in-github",
        "colab_type": "text"
      },
      "source": [
        "<a href=\"https://colab.research.google.com/github/Pablocezar777/Jogo-de-perguntas-e-respostas/blob/main/Untitled0.ipynb\" target=\"_parent\"><img src=\"https://colab.research.google.com/assets/colab-badge.svg\" alt=\"Open In Colab\"/></a>"
      ]
    },
    {
      "cell_type": "code",
      "source": [
        "from time import sleep \n",
        "import os\n",
        "\n",
        "#FUNÇÕES LIMPAR E LINHA\n",
        "def limpar():\n",
        "  os.system('clear')\n",
        "\n",
        "def linha():\n",
        "  print('---'*15)\n",
        "\n",
        "#BIBLIOTECA DE PERGUNTAS E RESPOSTAS\n",
        "perg = {\n",
        "  'pergunta 1' : {\n",
        "    'pergunta' : 'Quem matou o madara? ',\n",
        "    'resposta' : {'A':'Obito Uchiha','B':'Minato','C':'Zetsu'},\n",
        "    'resposta_certa' : 'C',\n",
        "    'resposta_unica' : 'Zetsu',\n",
        "  },\n",
        "  'pergunta 2' : {\n",
        "    'pergunta' : 'Quem perdeu um olho na guerra ninja?',\n",
        "    'resposta' : {'A':'Sasuke','B':'Obito','C':'Kakashi'},\n",
        "    'resposta_certa' : 'C',\n",
        "    'resposta_unica' : 'Kakashi',\n",
        "  },\n",
        "  'pergunta 3' : {\n",
        "    'pergunta' : 'Quem matou o Jiraya?',\n",
        "    'resposta' :{'A':'Madara','B':'Pain','C':'Orochimaru'},\n",
        "    'resposta_certa' : 'B',\n",
        "    'resposta_unica' : 'Pain',\n",
        "  },\n",
        "  'pergunta 4' : {\n",
        "    'pergunta' : 'Quem levou uma taca para os Kages?',\n",
        "    'resposta' : {'A':'Itachi', 'B':'Orochimaru','C':'Kabuto','D':'Sasuke'},\n",
        "    'resposta_certa' : 'D',\n",
        "    'resposta_unica' : 'Sasuke',\n",
        "  },\n",
        "}\n",
        "\n",
        "#INICIO DO PROGRAMA \n",
        "linha()\n",
        "print('>>>> JOGO DE PERGUNTAS E RESPOSTAS <<<<')\n",
        "linha()\n",
        "\n",
        "respostas_certas = 0\n",
        "\n",
        "for Pk, Pv in perg.items():\n",
        "  print(f'{Pk} : {Pv[\"pergunta\"]}')\n",
        "  for Rk, Rv in Pv['resposta'].items():\n",
        "    print(f'[{Rk}] : {Rv}')\n",
        "  print()\n",
        "\n",
        "  #RESPOSTA DO USUARIO\n",
        "  \n",
        "  resposta_usuario = input('Digite sua escolha: ').upper()\n",
        "  limpar()\n",
        "\n",
        "  if resposta_usuario == Pv['resposta_certa']:\n",
        "    linha()\n",
        "    print('Parabéns você acertou !!!')\n",
        "    respostas_certas += 1\n",
        "    linha()\n",
        "    sleep(2)\n",
        "    limpar()\n",
        "  else:\n",
        "    linha()\n",
        "    print(f'Você errou !!! a respota correta era {Pv[\"resposta_unica\"]}')\n",
        "    linha()\n",
        "    sleep(2)\n",
        "    limpar()\n",
        "  print()\n",
        "\n",
        "#VARIÁVEL DE QUANTIDADE E PORCENTAGEM DE ACERTOS\n",
        "quant = len(perg)\n",
        "porcentagem = respostas_certas / quant * 100\n",
        "\n",
        "print(f'Você acertou {respostas_certas} perguntas')\n",
        "print(f'Você acertou {porcentagem}% das perguntas')\n",
        "sleep(5)\n",
        "limpar()\n",
        "\n",
        "if respostas_certas == 4:\n",
        "  print('Parabens você acertou tudo e venceu o jogo.')\n",
        "else:\n",
        "  print('Game over! Boa sorte da próxima vez.')\n",
        "print('Fim de jogo')\n",
        "sleep(5)\n",
        "limpar()"
      ],
      "metadata": {
        "id": "Y4B2S_Jzz5Kp"
      },
      "execution_count": null,
      "outputs": []
    }
  ],
  "metadata": {
    "colab": {
      "collapsed_sections": [],
      "provenance": [],
      "authorship_tag": "ABX9TyPpXvv4a5nFLU3fuuBBO4P1",
      "include_colab_link": true
    },
    "kernelspec": {
      "display_name": "Python 3",
      "name": "python3"
    },
    "language_info": {
      "name": "python"
    }
  },
  "nbformat": 4,
  "nbformat_minor": 0
}