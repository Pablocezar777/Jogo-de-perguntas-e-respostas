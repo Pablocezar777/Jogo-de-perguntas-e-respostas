{
  "cells": [
    {
      "cell_type": "markdown",
      "metadata": {
        "id": "view-in-github",
        "colab_type": "text"
      },
      "source": [
        "<a href=\"https://colab.research.google.com/github/Pablocezar777/Jogo-de-perguntas-e-respostas/blob/main/Untitled0.ipynb\" target=\"_parent\"><img src=\"https://colab.research.google.com/assets/colab-badge.svg\" alt=\"Open In Colab\"/></a>"
      ]
    },
    {
      "cell_type": "code",
      "source": [
        "from time import sleep \n",
        "import os\n",
        "\n",
        "#FUNÇÕES LIMPAR E LINHA\n",
        "def limpar():\n",
        "  os.system('clear')\n",
        "\n",
        "def linha():\n",
        "  print('---'*15)\n",
        "\n",
        "#BIBLIOTECA DE PERGUNTAS E RESPOSTAS\n",
        "perg = {\n",
        "  'pergunta 1' : {\n",
        "    'pergunta' : 'Quem matou o madara? ',\n",
        "    'resposta' : {'A':'Obito Uchiha','B':'Minato','C':'Zetsu'},\n",
        "    'resposta_certa' : 'C',\n",
        "    'resposta_unica' : 'Zetsu',\n",
        "  },\n",
        "  'pergunta 2' : {\n",
        "    'pergunta' : 'Quem perdeu um olho na guerra ninja?',\n",
        "    'resposta' : {'A':'Sasuke','B':'Obito','C':'Kakashi'},\n",
        "    'resposta_certa' : 'C',\n",
        "    'resposta_unica' : 'Kakashi',\n",
        "  },\n",
        "  'pergunta 3' : {\n",
        "    'pergunta' : 'Quem matou o Jiraya?',\n",
        "    'resposta' :{'A':'Madara','B':'Pain','C':'Orochimaru'},\n",
        "    'resposta_certa' : 'B',\n",
        "    'resposta_unica' : 'Pain',\n",
        "  },\n",
        "  'pergunta 4' : {\n",
        "    'pergunta' : 'Quem levou uma taca para os Kages?',\n",
        "    'resposta' : {'A':'Itachi', 'B':'Orochimaru','C':'Kabuto','D':'Sasuke'},\n",
        "    'resposta_certa' : 'D',\n",
        "    'resposta_unica' : 'Sasuke',\n",
        "  },\n",
        "}\n",
        "\n",
        "#INICIO DO PROGRAMA \n",
        "linha()\n",
        "print('>>>> JOGO DE PERGUNTAS E RESPOSTAS <<<<')\n",
        "linha()\n",
        "\n",
        "respostas_certas = 0\n",
        "\n",
        "for Pk, Pv in perg.items():\n",
        "  print(f'{Pk} : {Pv[\"pergunta\"]}')\n",
        "  for Rk, Rv in Pv['resposta'].items():\n",
        "    print(f'[{Rk}] : {Rv}')\n",
        "  print()\n",
        "\n",
        "  #RESPOSTA DO USUARIO\n",
        "  \n",
        "  resposta_usuario = input('Digite sua escolha: ').upper()\n",
        "  limpar()\n",
        "\n",
        "  if resposta_usuario == Pv['resposta_certa']:\n",
        "    linha()\n",
        "    print('Parabéns você acertou !!!')\n",
        "    respostas_certas += 1\n",
        "    linha()\n",
        "    sleep(2)\n",
        "    limpar()\n",
        "  else:\n",
        "    linha()\n",
        "    print(f'Você errou !!! a respota correta era {Pv[\"resposta_unica\"]}')\n",
        "    linha()\n",
        "    sleep(2)\n",
        "    limpar()\n",
        "  print()\n",
        "\n",
        "#VARIÁVEL DE QUANTIDADE E PORCENTAGEM DE ACERTOS\n",
        "quant = len(perg)\n",
        "porcentagem = respostas_certas / quant * 100\n",
        "\n",
        "print(f'Você acertou {respostas_certas} perguntas')\n",
        "print(f'Você acertou {porcentagem}% das perguntas')\n",
        "sleep(5)\n",
        "limpar()\n",
        "\n",
        "if respostas_certas == 4:\n",
        "  print('Parabens você acertou tudo e venceu o jogo.')\n",
        "else:\n",
        "  print('Game over! Boa sorte da próxima vez.')\n",
        "print('Fim de jogo')\n",
        "sleep(5)\n",
        "limpar()"
      ],
      "metadata": {
        "colab": {
          "base_uri": "https://localhost:8080/",
          "height": 693
        },
        "id": "Y4B2S_Jzz5Kp",
        "outputId": "6d40a9d1-5524-4de6-8062-6a95fbb2f9c6"
      },
      "execution_count": 5,
      "outputs": [
        {
          "output_type": "stream",
          "name": "stdout",
          "text": [
            "---------------------------------------------\n",
            ">>>> JOGO DE PERGUNTAS E RESPOSTAS <<<<\n",
            "---------------------------------------------\n",
            "pergunta 1 : Quem matou o madara? \n",
            "[A] : Obito Uchiha\n",
            "[B] : Minato\n",
            "[C] : Zetsu\n",
            "\n",
            "Digite sua escolha: C\n",
            "---------------------------------------------\n",
            "Parabéns você acertou !!!\n",
            "---------------------------------------------\n",
            "\n",
            "pergunta 2 : Quem perdeu um olho na guerra ninja?\n",
            "[A] : Sasuke\n",
            "[B] : Obito\n",
            "[C] : Kakashi\n",
            "\n"
          ]
        },
        {
          "output_type": "error",
          "ename": "KeyboardInterrupt",
          "evalue": "ignored",
          "traceback": [
            "\u001b[0;31m---------------------------------------------------------------------------\u001b[0m",
            "\u001b[0;31mKeyboardInterrupt\u001b[0m                         Traceback (most recent call last)",
            "\u001b[0;32m<ipython-input-5-97ce5c98562b>\u001b[0m in \u001b[0;36m<module>\u001b[0;34m\u001b[0m\n\u001b[1;32m     51\u001b[0m \u001b[0;34m\u001b[0m\u001b[0m\n\u001b[1;32m     52\u001b[0m   \u001b[0;31m#RESPOSTA DO USUARIO\u001b[0m\u001b[0;34m\u001b[0m\u001b[0;34m\u001b[0m\u001b[0;34m\u001b[0m\u001b[0m\n\u001b[0;32m---> 53\u001b[0;31m   \u001b[0mresposta_usuario\u001b[0m \u001b[0;34m=\u001b[0m \u001b[0minput\u001b[0m\u001b[0;34m(\u001b[0m\u001b[0;34m'Digite sua escolha: '\u001b[0m\u001b[0;34m)\u001b[0m\u001b[0;34m.\u001b[0m\u001b[0mupper\u001b[0m\u001b[0;34m(\u001b[0m\u001b[0;34m)\u001b[0m\u001b[0;34m\u001b[0m\u001b[0;34m\u001b[0m\u001b[0m\n\u001b[0m\u001b[1;32m     54\u001b[0m   \u001b[0mlimpar\u001b[0m\u001b[0;34m(\u001b[0m\u001b[0;34m)\u001b[0m\u001b[0;34m\u001b[0m\u001b[0;34m\u001b[0m\u001b[0m\n\u001b[1;32m     55\u001b[0m \u001b[0;34m\u001b[0m\u001b[0m\n",
            "\u001b[0;32m/usr/local/lib/python3.7/dist-packages/ipykernel/kernelbase.py\u001b[0m in \u001b[0;36mraw_input\u001b[0;34m(self, prompt)\u001b[0m\n\u001b[1;32m    861\u001b[0m             \u001b[0mself\u001b[0m\u001b[0;34m.\u001b[0m\u001b[0m_parent_ident\u001b[0m\u001b[0;34m,\u001b[0m\u001b[0;34m\u001b[0m\u001b[0;34m\u001b[0m\u001b[0m\n\u001b[1;32m    862\u001b[0m             \u001b[0mself\u001b[0m\u001b[0;34m.\u001b[0m\u001b[0m_parent_header\u001b[0m\u001b[0;34m,\u001b[0m\u001b[0;34m\u001b[0m\u001b[0;34m\u001b[0m\u001b[0m\n\u001b[0;32m--> 863\u001b[0;31m             \u001b[0mpassword\u001b[0m\u001b[0;34m=\u001b[0m\u001b[0;32mFalse\u001b[0m\u001b[0;34m,\u001b[0m\u001b[0;34m\u001b[0m\u001b[0;34m\u001b[0m\u001b[0m\n\u001b[0m\u001b[1;32m    864\u001b[0m         )\n\u001b[1;32m    865\u001b[0m \u001b[0;34m\u001b[0m\u001b[0m\n",
            "\u001b[0;32m/usr/local/lib/python3.7/dist-packages/ipykernel/kernelbase.py\u001b[0m in \u001b[0;36m_input_request\u001b[0;34m(self, prompt, ident, parent, password)\u001b[0m\n\u001b[1;32m    902\u001b[0m             \u001b[0;32mexcept\u001b[0m \u001b[0mKeyboardInterrupt\u001b[0m\u001b[0;34m:\u001b[0m\u001b[0;34m\u001b[0m\u001b[0;34m\u001b[0m\u001b[0m\n\u001b[1;32m    903\u001b[0m                 \u001b[0;31m# re-raise KeyboardInterrupt, to truncate traceback\u001b[0m\u001b[0;34m\u001b[0m\u001b[0;34m\u001b[0m\u001b[0;34m\u001b[0m\u001b[0m\n\u001b[0;32m--> 904\u001b[0;31m                 \u001b[0;32mraise\u001b[0m \u001b[0mKeyboardInterrupt\u001b[0m\u001b[0;34m(\u001b[0m\u001b[0;34m\"Interrupted by user\"\u001b[0m\u001b[0;34m)\u001b[0m \u001b[0;32mfrom\u001b[0m \u001b[0;32mNone\u001b[0m\u001b[0;34m\u001b[0m\u001b[0;34m\u001b[0m\u001b[0m\n\u001b[0m\u001b[1;32m    905\u001b[0m             \u001b[0;32mexcept\u001b[0m \u001b[0mException\u001b[0m \u001b[0;32mas\u001b[0m \u001b[0me\u001b[0m\u001b[0;34m:\u001b[0m\u001b[0;34m\u001b[0m\u001b[0;34m\u001b[0m\u001b[0m\n\u001b[1;32m    906\u001b[0m                 \u001b[0mself\u001b[0m\u001b[0;34m.\u001b[0m\u001b[0mlog\u001b[0m\u001b[0;34m.\u001b[0m\u001b[0mwarning\u001b[0m\u001b[0;34m(\u001b[0m\u001b[0;34m\"Invalid Message:\"\u001b[0m\u001b[0;34m,\u001b[0m \u001b[0mexc_info\u001b[0m\u001b[0;34m=\u001b[0m\u001b[0;32mTrue\u001b[0m\u001b[0;34m)\u001b[0m\u001b[0;34m\u001b[0m\u001b[0;34m\u001b[0m\u001b[0m\n",
            "\u001b[0;31mKeyboardInterrupt\u001b[0m: Interrupted by user"
          ]
        }
      ]
    }
  ],
  "metadata": {
    "colab": {
      "collapsed_sections": [],
      "provenance": [],
      "authorship_tag": "ABX9TyPpXvv4a5nFLU3fuuBBO4P1",
      "include_colab_link": true
    },
    "kernelspec": {
      "display_name": "Python 3",
      "name": "python3"
    },
    "language_info": {
      "name": "python"
    }
  },
  "nbformat": 4,
  "nbformat_minor": 0
}